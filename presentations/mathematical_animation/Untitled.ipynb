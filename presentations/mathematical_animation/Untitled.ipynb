{
 "cells": [
  {
   "cell_type": "code",
   "execution_count": 1,
   "id": "a028402e",
   "metadata": {},
   "outputs": [
    {
     "data": {
      "text/html": [
       "<pre style=\"white-space:pre;overflow-x:auto;line-height:normal;font-family:Menlo,'DejaVu Sans Mono',consolas,'Courier New',monospace\">Manim Community <span style=\"color: #008000; text-decoration-color: #008000\">v0.13.1</span>\n",
       "\n",
       "</pre>\n"
      ],
      "text/plain": [
       "Manim Community \u001b[32mv0.\u001b[0m\u001b[32m13.1\u001b[0m\n",
       "\n"
      ]
     },
     "metadata": {},
     "output_type": "display_data"
    }
   ],
   "source": [
    "from manim import *"
   ]
  },
  {
   "cell_type": "code",
   "execution_count": 6,
   "id": "5fe14a93",
   "metadata": {
    "scrolled": true
   },
   "outputs": [
    {
     "name": "stderr",
     "output_type": "stream",
     "text": [
      "                                                                                \r"
     ]
    },
    {
     "data": {
      "text/html": [
       "<video src=\"media/jupyter/CreateCircle@2021-12-29@23-10-57.mp4\" controls autoplay loop style=\"max-width: 60%;\"  >\n",
       "      Your browser does not support the <code>video</code> element.\n",
       "    </video>"
      ],
      "text/plain": [
       "<IPython.core.display.Video object>"
      ]
     },
     "metadata": {},
     "output_type": "display_data"
    }
   ],
   "source": [
    "%%manim -v WARNING CreateCircle\n",
    "\n",
    "class CreateCircle(Scene):\n",
    "    def construct(self):\n",
    "        circle = Circle()\n",
    "        self.add(circle)\n",
    "        self.play(Create(circle))"
   ]
  },
  {
   "cell_type": "code",
   "execution_count": 10,
   "id": "0e7fc8c9",
   "metadata": {},
   "outputs": [
    {
     "name": "stderr",
     "output_type": "stream",
     "text": [
      "                                                                                \r"
     ]
    },
    {
     "data": {
      "text/html": [
       "<video src=\"media/jupyter/SquareToCircle@2021-12-29@23-16-35.mp4\" controls autoplay loop style=\"max-width: 60%;\"  >\n",
       "      Your browser does not support the <code>video</code> element.\n",
       "    </video>"
      ],
      "text/plain": [
       "<IPython.core.display.Video object>"
      ]
     },
     "metadata": {},
     "output_type": "display_data"
    },
    {
     "name": "stderr",
     "output_type": "stream",
     "text": [
      "[00005631e2f77670] main libvlc: Running vlc with the default interface. Use 'cvlc' to use vlc without interface.\n",
      "TagLib: MP4: No audio tracks\n",
      "TagLib: MP4: No audio tracks\n",
      "[00007fcf800052d0] gl gl: Initialized libplacebo v3.120.3 (API v120)\n",
      "[00007fcf800052d0] glconv_vaapi_x11 gl error: vaInitialize: unknown libva error\n",
      "libva error: vaGetDriverNameByIndex() failed with unknown libva error, driver_name = (null)\n",
      "[00007fcf800052d0] glconv_vaapi_drm gl error: vaInitialize: unknown libva error\n",
      "libva error: vaGetDriverNameByIndex() failed with unknown libva error, driver_name = (null)\n",
      "[00007fcf800052d0] glconv_vaapi_drm gl error: vaInitialize: unknown libva error\n",
      "[00007fcf800052d0] glconv_vaapi_drm gl error: vaInitialize: unknown libva error\n",
      "[00007fcf800052d0] glconv_vaapi_drm gl error: vaInitialize: unknown libva error\n",
      "[00007fcf8072c8a0] gl gl: Initialized libplacebo v3.120.3 (API v120)\n",
      "Failed to open VDPAU backend libvdpau_va_gl.so: cannot open shared object file: No such file or directory\n",
      "[00007fcf807a50a0] gl gl: Initialized libplacebo v3.120.3 (API v120)\n",
      "TagLib: MP4: No audio tracks\n",
      "[00007fcf640017a0] gl gl: Initialized libplacebo v3.120.3 (API v120)\n",
      "[00007fcf640017a0] glconv_vaapi_x11 gl error: vaInitialize: unknown libva error\n",
      "libva error: vaGetDriverNameByIndex() failed with unknown libva error, driver_name = (null)\n",
      "[00007fcf640017a0] glconv_vaapi_drm gl error: vaInitialize: unknown libva error\n",
      "libva error: vaGetDriverNameByIndex() failed with unknown libva error, driver_name = (null)\n",
      "[00007fcf640017a0] glconv_vaapi_drm gl error: vaInitialize: unknown libva error\n",
      "[00007fcf640017a0] glconv_vaapi_drm gl error: vaInitialize: unknown libva error\n",
      "[00007fcf640017a0] glconv_vaapi_drm gl error: vaInitialize: unknown libva error\n",
      "[00007fcf646dd970] gl gl: Initialized libplacebo v3.120.3 (API v120)\n",
      "Failed to open VDPAU backend libvdpau_va_gl.so: cannot open shared object file: No such file or directory\n",
      "[00007fcf646b6cf0] gl gl: Initialized libplacebo v3.120.3 (API v120)\n",
      "TagLib: MP4: No audio tracks\n",
      "[00007fcfc4001950] gl gl: Initialized libplacebo v3.120.3 (API v120)\n",
      "[00007fcfc4001950] glconv_vaapi_x11 gl error: vaInitialize: unknown libva error\n",
      "libva error: vaGetDriverNameByIndex() failed with unknown libva error, driver_name = (null)\n",
      "[00007fcfc4001950] glconv_vaapi_drm gl error: vaInitialize: unknown libva error\n",
      "libva error: vaGetDriverNameByIndex() failed with unknown libva error, driver_name = (null)\n",
      "[00007fcfc4001950] glconv_vaapi_drm gl error: vaInitialize: unknown libva error\n",
      "[00007fcfc4001950] glconv_vaapi_drm gl error: vaInitialize: unknown libva error\n",
      "[00007fcfc4001950] glconv_vaapi_drm gl error: vaInitialize: unknown libva error\n",
      "[00007fcfc46dd6f0] gl gl: Initialized libplacebo v3.120.3 (API v120)\n",
      "Failed to open VDPAU backend libvdpau_va_gl.so: cannot open shared object file: No such file or directory\n",
      "[00007fcfc46b3580] gl gl: Initialized libplacebo v3.120.3 (API v120)\n"
     ]
    }
   ],
   "source": [
    "%%manim -p -ql -v WARNING SquareToCircle\n",
    "\n",
    "class SquareToCircle(Scene):\n",
    "    def construct(self):\n",
    "        c = Circle()\n",
    "        s = Square()\n",
    "        self.add(c)\n",
    "        self.play(Transform(c,s))"
   ]
  },
  {
   "cell_type": "code",
   "execution_count": null,
   "id": "7e2ebf05",
   "metadata": {},
   "outputs": [],
   "source": []
  }
 ],
 "metadata": {
  "kernelspec": {
   "display_name": "Python 3 (ipykernel)",
   "language": "python",
   "name": "python3"
  },
  "language_info": {
   "codemirror_mode": {
    "name": "ipython",
    "version": 3
   },
   "file_extension": ".py",
   "mimetype": "text/x-python",
   "name": "python",
   "nbconvert_exporter": "python",
   "pygments_lexer": "ipython3",
   "version": "3.9.9"
  }
 },
 "nbformat": 4,
 "nbformat_minor": 5
}
